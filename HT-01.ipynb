{
 "cells": [
  {
   "cell_type": "markdown",
   "metadata": {},
   "source": [
    "# Hoja de Trabajo Regresión Lineal "
   ]
  },
  {
   "cell_type": "markdown",
   "metadata": {},
   "source": [
    "Marcos Gutierrez"
   ]
  },
  {
   "cell_type": "markdown",
   "metadata": {},
   "source": [
    "#### Importamos las librerias"
   ]
  },
  {
   "cell_type": "code",
   "execution_count": 1,
   "metadata": {},
   "outputs": [],
   "source": [
    "# Modulos para analiss\n",
    "import csv\n",
    "import numpy as np\n",
    "import pandas as pd\n",
    "from matplotlib import pyplot as plt\n",
    "import seaborn  as sb\n",
    "# Modulos realizados en clases\n",
    "from gradient_descent import gradient_descent\n",
    "from linear_cost import linear_cost\n",
    "from linear_cost_derivate import linear_cost_derivate"
   ]
  },
  {
   "cell_type": "markdown",
   "metadata": {},
   "source": [
    "### Abrimos el archivo CSV"
   ]
  },
  {
   "cell_type": "code",
   "execution_count": 2,
   "metadata": {},
   "outputs": [],
   "source": [
    "#abrimos el csv y lo colocamos en un array\n",
    "with open('Admission_Predict.csv', \"r\") as file:\n",
    "    data = list(csv.reader(file, delimiter = \",\"))\n",
    "    #le colocamos con numpy en un array\n",
    "    data = np.array(data[1:], dtype=np.float)\n",
    "    "
   ]
  },
  {
   "cell_type": "code",
   "execution_count": 3,
   "metadata": {},
   "outputs": [],
   "source": [
    "#datos de GRE Score\n",
    "GRES = data[:,1]"
   ]
  },
  {
   "cell_type": "code",
   "execution_count": 4,
   "metadata": {},
   "outputs": [],
   "source": [
    "#datos de TFOEL Score\n",
    "TFOEL = data[:,2]"
   ]
  },
  {
   "cell_type": "code",
   "execution_count": 5,
   "metadata": {},
   "outputs": [],
   "source": [
    "#datos de Chance of Admit\n",
    "Chance = data[:,8]"
   ]
  },
  {
   "cell_type": "markdown",
   "metadata": {},
   "source": [
    "### Visualización de los datos Pandas"
   ]
  },
  {
   "cell_type": "code",
   "execution_count": 6,
   "metadata": {},
   "outputs": [],
   "source": [
    "#Visualizacion de los datos, se usaran los datos GRE Score, TOEFL Score y Chance of Admit\n",
    "dataset = pd.read_csv('Admission_Predict.csv', usecols=['GRE Score', 'TOEFL Score', 'Chance of Admit '])"
   ]
  },
  {
   "cell_type": "code",
   "execution_count": 7,
   "metadata": {},
   "outputs": [
    {
     "data": {
      "text/html": [
       "<div>\n",
       "<style scoped>\n",
       "    .dataframe tbody tr th:only-of-type {\n",
       "        vertical-align: middle;\n",
       "    }\n",
       "\n",
       "    .dataframe tbody tr th {\n",
       "        vertical-align: top;\n",
       "    }\n",
       "\n",
       "    .dataframe thead th {\n",
       "        text-align: right;\n",
       "    }\n",
       "</style>\n",
       "<table border=\"1\" class=\"dataframe\">\n",
       "  <thead>\n",
       "    <tr style=\"text-align: right;\">\n",
       "      <th></th>\n",
       "      <th>GRE Score</th>\n",
       "      <th>TOEFL Score</th>\n",
       "      <th>Chance of Admit</th>\n",
       "    </tr>\n",
       "  </thead>\n",
       "  <tbody>\n",
       "    <tr>\n",
       "      <th>0</th>\n",
       "      <td>337</td>\n",
       "      <td>118</td>\n",
       "      <td>0.92</td>\n",
       "    </tr>\n",
       "    <tr>\n",
       "      <th>1</th>\n",
       "      <td>324</td>\n",
       "      <td>107</td>\n",
       "      <td>0.76</td>\n",
       "    </tr>\n",
       "    <tr>\n",
       "      <th>2</th>\n",
       "      <td>316</td>\n",
       "      <td>104</td>\n",
       "      <td>0.72</td>\n",
       "    </tr>\n",
       "    <tr>\n",
       "      <th>3</th>\n",
       "      <td>322</td>\n",
       "      <td>110</td>\n",
       "      <td>0.80</td>\n",
       "    </tr>\n",
       "    <tr>\n",
       "      <th>4</th>\n",
       "      <td>314</td>\n",
       "      <td>103</td>\n",
       "      <td>0.65</td>\n",
       "    </tr>\n",
       "  </tbody>\n",
       "</table>\n",
       "</div>"
      ],
      "text/plain": [
       "   GRE Score  TOEFL Score  Chance of Admit \n",
       "0        337          118              0.92\n",
       "1        324          107              0.76\n",
       "2        316          104              0.72\n",
       "3        322          110              0.80\n",
       "4        314          103              0.65"
      ]
     },
     "execution_count": 7,
     "metadata": {},
     "output_type": "execute_result"
    }
   ],
   "source": [
    "#Describe de todos los datos \n",
    "dataset.head()"
   ]
  },
  {
   "cell_type": "markdown",
   "metadata": {},
   "source": [
    "#### Descripción de cada uno de los Datos que se encuentran en el archivo"
   ]
  },
  {
   "cell_type": "code",
   "execution_count": 8,
   "metadata": {},
   "outputs": [
    {
     "data": {
      "text/plain": [
       "<matplotlib.axes._subplots.AxesSubplot at 0x54256d0>"
      ]
     },
     "execution_count": 8,
     "metadata": {},
     "output_type": "execute_result"
    },
    {
     "data": {
      "image/png": "[encoded data removed]",
      "text/plain": [
       "<Figure size 720x720 with 2 Axes>"
      ]
     },
     "metadata": {
      "needs_background": "light"
     },
     "output_type": "display_data"
    }
   ],
   "source": [
    "plt.figure(figsize=(10,10))\n",
    "sb.heatmap(dataset.corr(),cmap='viridis',annot=True,linewidths=0.5,)"
   ]
  },
  {
   "cell_type": "markdown",
   "metadata": {},
   "source": [
    "La posibilidad de admision esta más dada por las columnas de GRE Score, TOEFl Score y Chance Admit, por lo cual son los datos que se tendran para el analisis."
   ]
  },
  {
   "cell_type": "markdown",
   "metadata": {},
   "source": [
    "### TRAINING AND TEST DATA"
   ]
  },
  {
   "cell_type": "code",
   "execution_count": 49,
   "metadata": {},
   "outputs": [],
   "source": [
    "TRAINING_ELEMENTS = 240\n",
    "TEST_ELEMENTS = 80\n",
    "data = dataset.iloc[:len(dataset), 0:3].values\n",
    "# datos para el trainnig\n",
    "training = data[:TRAINING_ELEMENTS]\n",
    "test = data[TEST_ELEMENTS:]"
   ]
  },
  {
   "cell_type": "code",
   "execution_count": 50,
   "metadata": {},
   "outputs": [],
   "source": [
    "#datos preparados \n",
    "trainingPreparate = training[:len(data), 2].reshape(-1,1)\n",
    "testPreparate = test[:len(data), 2].reshape(-1,1)"
   ]
  },
  {
   "cell_type": "code",
   "execution_count": 51,
   "metadata": {},
   "outputs": [],
   "source": [
    "#Los datos de X, son la union entre los datoas de GRE Score y TOEFL Score\n",
    "X = dataset.iloc[:len(data), 0].values\n",
    "# Colocamos los limites de la matriz\n",
    "X = X.reshape(-1, 1)\n",
    "X = np.insert(X, 0, dataset.iloc[:len(data), 0].values, axis = 1)\n",
    "# Header of array [\"GRE Score\", \"TOEFL\"]\n",
    "X = np.insert(X, 0, 1, axis = 1)"
   ]
  },
  {
   "cell_type": "code",
   "execution_count": 52,
   "metadata": {},
   "outputs": [],
   "source": [
    "#Los datos de y, son los de Chance of Admit\n",
    "y = dataset.iloc[:len(dataset), 2].values.reshape(-1,1)"
   ]
  },
  {
   "cell_type": "code",
   "execution_count": 53,
   "metadata": {},
   "outputs": [
    {
     "name": "stdout",
     "output_type": "stream",
     "text": [
      "[[0.90636573]\n",
      " [0.67057376]\n",
      " [0.02357054]]\n"
     ]
    }
   ],
   "source": [
    "m,n = X.shape\n",
    "theta_0 = np.random.rand(n,1)\n",
    "print(theta_0)"
   ]
  },
  {
   "cell_type": "code",
   "execution_count": 54,
   "metadata": {},
   "outputs": [],
   "source": [
    "# Implementamos funciones\n",
    "theta, costs, gradient_norms = gradient_descent(\n",
    "    X, \n",
    "    y, \n",
    "    theta_0, \n",
    "    linear_cost, \n",
    "    linear_cost_derivate,\n",
    "    lamda = 0,\n",
    "    alpha = 0.000001,\n",
    "    treshold = 0.001, \n",
    "    max_iter = 100000)"
   ]
  },
  {
   "cell_type": "code",
   "execution_count": 55,
   "metadata": {},
   "outputs": [],
   "source": [
    "# array de los datos entrenados\n",
    "train = []\n",
    "cv = []\n",
    "#ciclo para recorrerlo\n",
    "for i in range(0, 100, 10):\n",
    "    train.append(linear_cost(training, trainingPreparate, theta, i))\n",
    "    cv.append(linear_cost(test, testPreparate, theta, i))"
   ]
  },
  {
   "cell_type": "code",
   "execution_count": 56,
   "metadata": {},
   "outputs": [
    {
     "data": {
      "text/plain": [
       "[<matplotlib.lines.Line2D at 0xebcdc0>]"
      ]
     },
     "execution_count": 56,
     "metadata": {},
     "output_type": "execute_result"
    },
    {
     "data": {
      "image/png": "[encoded data removed]",
      "text/plain": [
       "<Figure size 432x288 with 1 Axes>"
      ]
     },
     "metadata": {
      "needs_background": "light"
     },
     "output_type": "display_data"
    }
   ],
   "source": [
    "#Graficamos para visualizacion de los datos\n",
    "plt.plot(np.arange(0, 100, 10), train, color=\"blue\")\n",
    "plt.plot(np.arange(0, 100, 10), cv, color=\"red\")"
   ]
  },
  {
   "cell_type": "markdown",
   "metadata": {},
   "source": [
    "## Regularización del Método"
   ]
  },
  {
   "cell_type": "markdown",
   "metadata": {},
   "source": [
    "Para aplicar la regulacion de los metodos en el dataset generado, se va a realizar en diferentes comparacion entre cada uno de los datos. Además, se utilizara un lambda encontrado durante el training y test anterior realizado al dataset generado"
   ]
  },
  {
   "cell_type": "markdown",
   "metadata": {},
   "source": [
    "### GRE Score vs TOEFL Score"
   ]
  },
  {
   "cell_type": "code",
   "execution_count": 96,
   "metadata": {},
   "outputs": [],
   "source": [
    "# Training elements generados por numpy\n",
    "TRAINING_ELEMENTS = 200"
   ]
  },
  {
   "cell_type": "code",
   "execution_count": 97,
   "metadata": {},
   "outputs": [],
   "source": [
    "# X corresponden a los datos de la columna GRE Score\n",
    "x = np.asarray(dataset['GRE Score'][:TRAINING_ELEMENTS])\n",
    "\n",
    "# Generamos la matriz  con los datos de entrenamiento y los datos de GRE Score\n",
    "X = np.vstack((np.ones(TRAINING_ELEMENTS), x, (x ** 2)/100)).T"
   ]
  },
  {
   "cell_type": "code",
   "execution_count": 98,
   "metadata": {},
   "outputs": [],
   "source": [
    "# Columna test, generada por los datos de TOEFL Score \n",
    "y = np.asarray(dataset['TOEFL Score'][:TRAINING_ELEMENTS])\n",
    "dataGenerate = (X, y.reshape(TRAINING_ELEMENTS, 1))"
   ]
  },
  {
   "cell_type": "code",
   "execution_count": 99,
   "metadata": {},
   "outputs": [
    {
     "name": "stdout",
     "output_type": "stream",
     "text": [
      "[[0.27335082]\n",
      " [0.36396226]\n",
      " [0.57359815]]\n"
     ]
    }
   ],
   "source": [
    "m,n = X.shape\n",
    "theta_0 = np.random.rand(n,1)\n",
    "print(theta_0)"
   ]
  },
  {
   "cell_type": "code",
   "execution_count": 100,
   "metadata": {},
   "outputs": [
    {
     "name": "stdout",
     "output_type": "stream",
     "text": [
      "[[0.27043997]\n",
      " [0.23259072]\n",
      " [0.03369577]]\n"
     ]
    }
   ],
   "source": [
    "X , y = dataGenerate\n",
    "# Implementamos funciones\n",
    "theta, costs, gradient_norms = gradient_descent(\n",
    "    X, \n",
    "    y, \n",
    "    theta_0, \n",
    "    linear_cost, \n",
    "    linear_cost_derivate,\n",
    "    lamda = 10,\n",
    "    alpha = 0.000001,\n",
    "    treshold = 0.001, \n",
    "    max_iter = 100000)\n",
    "\n",
    "#verificacion de los datos\n",
    "print(theta)"
   ]
  },
  {
   "cell_type": "code",
   "execution_count": 101,
   "metadata": {},
   "outputs": [
    {
     "data": {
      "image/png": "[encoded data removed]",
      "text/plain": [
       "<Figure size 432x288 with 1 Axes>"
      ]
     },
     "metadata": {
      "needs_background": "light"
     },
     "output_type": "display_data"
    }
   ],
   "source": [
    "plt.scatter(X[:, 1], y, color=\"orange\")\n",
    "# Se junta las variables X y theta por medio de una multplicacion\n",
    "plt.scatter(X[:, 1], np.matmul(X, theta), color='green')\n",
    "plt.show()"
   ]
  },
  {
   "cell_type": "markdown",
   "metadata": {},
   "source": [
    "En conclusion, se puede observar que el metodo de regularización es algo efectivo, por lo cual , la obtención del lambda optimizo encontrar la theta, por lo cual la grafica toma el costo menor, para la aceptación de los alumnos. Y la varibale la TOEFL Score y GRE son las más optimas. "
   ]
  },
  {
   "cell_type": "code",
   "execution_count": null,
   "metadata": {},
   "outputs": [],
   "source": []
  }
 ],
 "metadata": {
  "kernelspec": {
   "display_name": "Python 3",
   "language": "python",
   "name": "python3"
  },
  "language_info": {
   "codemirror_mode": {
    "name": "ipython",
    "version": 3
   },
   "file_extension": ".py",
   "mimetype": "text/x-python",
   "name": "python",
   "nbconvert_exporter": "python",
   "pygments_lexer": "ipython3",
   "version": "3.8.2"
  }
 },
 "nbformat": 4,
 "nbformat_minor": 4
}
